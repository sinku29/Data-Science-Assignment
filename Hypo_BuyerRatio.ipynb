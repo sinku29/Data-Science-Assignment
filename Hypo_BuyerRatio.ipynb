{
  "nbformat": 4,
  "nbformat_minor": 0,
  "metadata": {
    "colab": {
      "provenance": [],
      "authorship_tag": "ABX9TyO1Q1E3QAHgiV7+stUFfBWa",
      "include_colab_link": true
    },
    "kernelspec": {
      "name": "python3",
      "display_name": "Python 3"
    },
    "language_info": {
      "name": "python"
    }
  },
  "cells": [
    {
      "cell_type": "markdown",
      "metadata": {
        "id": "view-in-github",
        "colab_type": "text"
      },
      "source": [
        "<a href=\"https://colab.research.google.com/github/sinku29/Data-Science-Assignment/blob/main/Hypo_BuyerRatio.ipynb\" target=\"_parent\"><img src=\"https://colab.research.google.com/assets/colab-badge.svg\" alt=\"Open In Colab\"/></a>"
      ]
    },
    {
      "cell_type": "code",
      "execution_count": 1,
      "metadata": {
        "id": "FICN8kuDwoxn"
      },
      "outputs": [],
      "source": [
        "import pandas as pd\n",
        "import numpy as np\n",
        "from scipy import stats\n",
        "from scipy.stats import norm"
      ]
    },
    {
      "cell_type": "code",
      "source": [
        "data=pd.read_csv(\"BuyerRatio.csv\")\n",
        "print(data)"
      ],
      "metadata": {
        "colab": {
          "base_uri": "https://localhost:8080/"
        },
        "id": "Y0RFs-YNxJt9",
        "outputId": "f0450e2f-ed14-45ac-b67e-087662ca711d"
      },
      "execution_count": 11,
      "outputs": [
        {
          "output_type": "stream",
          "name": "stdout",
          "text": [
            "  Observed Values  East  West  North  South\n",
            "0           Males    50   142    131     70\n",
            "1         Females   435  1523   1356    750\n"
          ]
        }
      ]
    },
    {
      "cell_type": "code",
      "source": [
        "table = data.iloc[:,1:6]\n",
        "print(table)"
      ],
      "metadata": {
        "colab": {
          "base_uri": "https://localhost:8080/"
        },
        "id": "h1ehNRIuyBsu",
        "outputId": "dc93e626-f92d-4173-9721-5a801554bb3f"
      },
      "execution_count": 15,
      "outputs": [
        {
          "output_type": "stream",
          "name": "stdout",
          "text": [
            "   East  West  North  South\n",
            "0    50   142    131     70\n",
            "1   435  1523   1356    750\n"
          ]
        }
      ]
    },
    {
      "cell_type": "code",
      "source": [
        "Chisquares_results=stats.chi2_contingency(table)\n",
        "Chisquares_results"
      ],
      "metadata": {
        "colab": {
          "base_uri": "https://localhost:8080/"
        },
        "id": "YpmBYQHX22ee",
        "outputId": "23a99af3-aecb-4536-92a3-c8dd53c30d18"
      },
      "execution_count": 28,
      "outputs": [
        {
          "output_type": "execute_result",
          "data": {
            "text/plain": [
              "Chi2ContingencyResult(statistic=1.595945538661058, pvalue=0.6603094907091882, dof=3, expected_freq=array([[  42.76531299,  146.81287862,  131.11756787,   72.30424052],\n",
              "       [ 442.23468701, 1518.18712138, 1355.88243213,  747.69575948]]))"
            ]
          },
          "metadata": {},
          "execution_count": 28
        }
      ]
    },
    {
      "cell_type": "code",
      "source": [
        "print(\"Chi-square statistic:\", Chisquares_results[0])\n",
        "print(\"P-value:\", Chisquares_results[1])\n",
        "print(\"Degrees of freedom:\", Chisquares_results[2])\n",
        "print(\"Expected frequencies:\")\n",
        "print(Chisquares_results[3])"
      ],
      "metadata": {
        "colab": {
          "base_uri": "https://localhost:8080/"
        },
        "id": "jqBvnjce3yaF",
        "outputId": "550c8507-ceab-4a32-b529-000d2c7da26e"
      },
      "execution_count": 29,
      "outputs": [
        {
          "output_type": "stream",
          "name": "stdout",
          "text": [
            "Chi-square statistic: 1.595945538661058\n",
            "P-value: 0.6603094907091882\n",
            "Degrees of freedom: 3\n",
            "Expected frequencies:\n",
            "[[  42.76531299  146.81287862  131.11756787   72.30424052]\n",
            " [ 442.23468701 1518.18712138 1355.88243213  747.69575948]]\n"
          ]
        }
      ]
    },
    {
      "cell_type": "markdown",
      "source": [
        "p value is 0.6603  Since the p-value is greater than the common significance level of 0.05 , we fail to reject the null hypothesis.\n",
        "\n",
        "Since we fail to reject the null hypothesis, we conclude that there is not enough evidence to suggest that the male-female buyer ratios significantly differ across regions. In other words, based on the data, it appears that the male-female buyer ratios are similar across the four different regions."
      ],
      "metadata": {
        "id": "ur_1j6-E5W_S"
      }
    }
  ]
}