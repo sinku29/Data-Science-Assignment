{
  "nbformat": 4,
  "nbformat_minor": 0,
  "metadata": {
    "colab": {
      "provenance": [],
      "authorship_tag": "ABX9TyN/R/+Ue4xl5oxrmt63pY+H",
      "include_colab_link": true
    },
    "kernelspec": {
      "name": "python3",
      "display_name": "Python 3"
    },
    "language_info": {
      "name": "python"
    }
  },
  "cells": [
    {
      "cell_type": "markdown",
      "metadata": {
        "id": "view-in-github",
        "colab_type": "text"
      },
      "source": [
        "<a href=\"https://colab.research.google.com/github/sinku29/Data-Science-Assignment/blob/main/MLR_Toyota.ipynb\" target=\"_parent\"><img src=\"https://colab.research.google.com/assets/colab-badge.svg\" alt=\"Open In Colab\"/></a>"
      ]
    },
    {
      "cell_type": "code",
      "execution_count": null,
      "metadata": {
        "id": "HlsCmmU5XXnn"
      },
      "outputs": [],
      "source": [
        "# Import Libraries\n",
        "import pandas as pd\n",
        "import numpy as np\n",
        "import matplotlib.pyplot as plt\n",
        "import seaborn as sns\n",
        "import statsmodels.formula.api as smf\n",
        "import statsmodels.api as sm\n",
        "from statsmodels.graphics.regressionplots import influence_plot"
      ]
    },
    {
      "cell_type": "code",
      "source": [
        "# import dataset\n",
        "toyo=pd.read_csv('Database/ToyotaCorolla.csv',encoding='latin1')\n",
        "toyo"
      ],
      "metadata": {
        "id": "L8Yi5wc9XgrQ"
      },
      "execution_count": null,
      "outputs": []
    },
    {
      "cell_type": "markdown",
      "source": [
        "# **EDA**"
      ],
      "metadata": {
        "id": "3S214vdEX6Jv"
      }
    },
    {
      "cell_type": "code",
      "source": [
        "toyo.info()"
      ],
      "metadata": {
        "id": "P4DdhKtcX80m"
      },
      "execution_count": null,
      "outputs": []
    },
    {
      "cell_type": "code",
      "source": [
        "toyo2=pd.concat([toyo.iloc[:,2:4],toyo.iloc[:,6:7],toyo.iloc[:,8:9],toyo.iloc[:,12:14],toyo.iloc[:,15:18]],axis=1)\n",
        "toyo2"
      ],
      "metadata": {
        "id": "ZHClbxI7YIzG"
      },
      "execution_count": null,
      "outputs": []
    },
    {
      "cell_type": "code",
      "source": [
        "toyo3=toyo2.rename({'Age_08_04':'Age','cc':'CC','Quarterly_Tax':'QT'},axis=1)\n",
        "toyo3"
      ],
      "metadata": {
        "id": "3-Og2ax9YMMu"
      },
      "execution_count": null,
      "outputs": []
    },
    {
      "cell_type": "code",
      "source": [
        "toyo3[toyo3.duplicated()]"
      ],
      "metadata": {
        "id": "MPSod1sXYPhB"
      },
      "execution_count": null,
      "outputs": []
    },
    {
      "cell_type": "code",
      "source": [
        "toyo4=toyo3.drop_duplicates().reset_index(drop=True)\n",
        "toyo4"
      ],
      "metadata": {
        "id": "u35mM4JZYSmA"
      },
      "execution_count": null,
      "outputs": []
    },
    {
      "cell_type": "code",
      "source": [
        "toyo4.describe()"
      ],
      "metadata": {
        "id": "VOFlFmINYXLt"
      },
      "execution_count": null,
      "outputs": []
    },
    {
      "cell_type": "markdown",
      "source": [
        "# **Correlation Analysis**"
      ],
      "metadata": {
        "id": "nU0qcXnKYdFq"
      }
    },
    {
      "cell_type": "code",
      "source": [
        "toyo4.corr()"
      ],
      "metadata": {
        "id": "aUvFEApGYkD0"
      },
      "execution_count": null,
      "outputs": []
    },
    {
      "cell_type": "code",
      "source": [
        "sns.set_style(style='darkgrid')\n",
        "sns.pairplot(toyo4)"
      ],
      "metadata": {
        "id": "hv0A3xGNYrj-"
      },
      "execution_count": null,
      "outputs": []
    },
    {
      "cell_type": "markdown",
      "source": [
        "# **Model Building**"
      ],
      "metadata": {
        "id": "CmF_q5LDYyPj"
      }
    },
    {
      "cell_type": "code",
      "source": [
        "model=smf.ols('Price~Age+KM+HP+CC+Doors+Gears+QT+Weight',data=toyo4).fit()"
      ],
      "metadata": {
        "id": "p4nBtxoAY1Y-"
      },
      "execution_count": null,
      "outputs": []
    },
    {
      "cell_type": "markdown",
      "source": [
        "# **Model Testing**"
      ],
      "metadata": {
        "id": "U30_Ff-cY4DA"
      }
    },
    {
      "cell_type": "code",
      "source": [
        "# Finding Coefficient parameters\n",
        "model.params"
      ],
      "metadata": {
        "id": "Qif2navCY7Bf"
      },
      "execution_count": null,
      "outputs": []
    },
    {
      "cell_type": "code",
      "source": [
        "# Finding tvalues and pvalues\n",
        "model.tvalues , np.round(model.pvalues,5)"
      ],
      "metadata": {
        "id": "Lgkdt5ycY910"
      },
      "execution_count": null,
      "outputs": []
    },
    {
      "cell_type": "code",
      "source": [
        "# Finding rsquared values\n",
        "model.rsquared , model.rsquared_adj   # Model accuracy is 86.17%"
      ],
      "metadata": {
        "id": "luysuFGfZAO0"
      },
      "execution_count": null,
      "outputs": []
    },
    {
      "cell_type": "code",
      "source": [
        "# Build SLR and MLR models for insignificant variables 'CC' and 'Doors'\n",
        "# Also find their tvalues and pvalues"
      ],
      "metadata": {
        "id": "mx1l9qC1ZCj9"
      },
      "execution_count": null,
      "outputs": []
    },
    {
      "cell_type": "code",
      "source": [
        "slr_c=smf.ols('Price~CC',data=toyo4).fit()\n",
        "slr_c.tvalues , slr_c.pvalues # CC has significant pvalue"
      ],
      "metadata": {
        "id": "aGnx4LaHZGf0"
      },
      "execution_count": null,
      "outputs": []
    },
    {
      "cell_type": "code",
      "source": [
        "slr_d=smf.ols('Price~Doors',data=toyo4).fit()\n",
        "slr_d.tvalues , slr_d.pvalues # Doors has significant pvalue"
      ],
      "metadata": {
        "id": "BG8IT_uQZLFB"
      },
      "execution_count": null,
      "outputs": []
    },
    {
      "cell_type": "code",
      "source": [
        "mlr_cd=smf.ols('Price~CC+Doors',data=toyo4).fit()\n",
        "mlr_cd.tvalues , mlr_cd.pvalues # CC & Doors have significant pvalue"
      ],
      "metadata": {
        "id": "4eQ_It0_ZOHm"
      },
      "execution_count": null,
      "outputs": []
    },
    {
      "cell_type": "markdown",
      "source": [
        "# **Model Validation Techniques**"
      ],
      "metadata": {
        "id": "dQQjx0QUZSu9"
      }
    },
    {
      "cell_type": "markdown",
      "source": [
        "**Two Techniques: 1. Collinearity Check & 2. Residual Analysist**"
      ],
      "metadata": {
        "id": "87OqGUhxZVor"
      }
    },
    {
      "cell_type": "code",
      "source": [
        "# 1) Collinearity Problem Check\n",
        "# Calculate VIF = 1/(1-Rsquare) for all independent variables\n",
        "\n",
        "rsq_age=smf.ols('Age~KM+HP+CC+Doors+Gears+QT+Weight',data=toyo4).fit().rsquared\n",
        "vif_age=1/(1-rsq_age)\n",
        "\n",
        "rsq_KM=smf.ols('KM~Age+HP+CC+Doors+Gears+QT+Weight',data=toyo4).fit().rsquared\n",
        "vif_KM=1/(1-rsq_KM)\n",
        "\n",
        "rsq_HP=smf.ols('HP~Age+KM+CC+Doors+Gears+QT+Weight',data=toyo4).fit().rsquared\n",
        "vif_HP=1/(1-rsq_HP)\n",
        "\n",
        "rsq_CC=smf.ols('CC~Age+KM+HP+Doors+Gears+QT+Weight',data=toyo4).fit().rsquared\n",
        "vif_CC=1/(1-rsq_CC)\n",
        "\n",
        "rsq_DR=smf.ols('Doors~Age+KM+HP+CC+Gears+QT+Weight',data=toyo4).fit().rsquared\n",
        "vif_DR=1/(1-rsq_DR)\n",
        "\n",
        "rsq_GR=smf.ols('Gears~Age+KM+HP+CC+Doors+QT+Weight',data=toyo4).fit().rsquared\n",
        "vif_GR=1/(1-rsq_GR)\n",
        "\n",
        "rsq_QT=smf.ols('QT~Age+KM+HP+CC+Doors+Gears+Weight',data=toyo4).fit().rsquared\n",
        "vif_QT=1/(1-rsq_QT)\n",
        "\n",
        "rsq_WT=smf.ols('Weight~Age+KM+HP+CC+Doors+Gears+QT',data=toyo4).fit().rsquared\n",
        "vif_WT=1/(1-rsq_WT)\n",
        "\n",
        "# Putting the values in Dataframe format\n",
        "d1={'Variables':['Age','KM','HP','CC','Doors','Gears','QT','Weight'],\n",
        "    'Vif':[vif_age,vif_KM,vif_HP,vif_CC,vif_DR,vif_GR,vif_QT,vif_WT]}\n",
        "Vif_df=pd.DataFrame(d1)\n",
        "Vif_df"
      ],
      "metadata": {
        "id": "mooQTeyNZcM5"
      },
      "execution_count": null,
      "outputs": []
    },
    {
      "cell_type": "code",
      "source": [
        "# None variable has VIF>20, No Collinearity, so consider all varaibles in Regression equation"
      ],
      "metadata": {
        "id": "l2WulB3xZk16"
      },
      "execution_count": null,
      "outputs": []
    },
    {
      "cell_type": "code",
      "source": [
        "# 2) Residual Analysis\n",
        "# Test for Normality of Residuals (Q-Q Plot) using residual model (model.resid)\n",
        "sm.qqplot(model.resid,line='q') # 'q' - A line is fit through the quartiles # line = '45'- to draw the 45-degree diagonal line\n",
        "plt.title(\"Normal Q-Q plot of residuals\")\n",
        "plt.show()"
      ],
      "metadata": {
        "id": "b7CNkY_GZnuF"
      },
      "execution_count": null,
      "outputs": []
    }
  ]
}