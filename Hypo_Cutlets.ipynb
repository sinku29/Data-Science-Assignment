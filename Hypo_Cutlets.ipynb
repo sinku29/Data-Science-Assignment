{
  "nbformat": 4,
  "nbformat_minor": 0,
  "metadata": {
    "colab": {
      "provenance": [],
      "authorship_tag": "ABX9TyPRlSgIilt81AHHwa6ayi/o",
      "include_colab_link": true
    },
    "kernelspec": {
      "name": "python3",
      "display_name": "Python 3"
    },
    "language_info": {
      "name": "python"
    }
  },
  "cells": [
    {
      "cell_type": "markdown",
      "metadata": {
        "id": "view-in-github",
        "colab_type": "text"
      },
      "source": [
        "<a href=\"https://colab.research.google.com/github/sinku29/Data-Science-Assignment/blob/main/Hypo_Cutlets.ipynb\" target=\"_parent\"><img src=\"https://colab.research.google.com/assets/colab-badge.svg\" alt=\"Open In Colab\"/></a>"
      ]
    },
    {
      "cell_type": "code",
      "execution_count": 3,
      "metadata": {
        "id": "27qEa64Fcsbi"
      },
      "outputs": [],
      "source": [
        "import pandas as pd\n",
        "# import numpy as np\n",
        "import scipy\n",
        "from scipy import stats"
      ]
    },
    {
      "cell_type": "code",
      "source": [
        "################One-Way Anova Test ################\n",
        "cof=pd.read_csv(\"Cutlets.csv\")\n",
        "print(cof)\n",
        "stats.f_oneway(cof.iloc[:,0], cof.iloc[:,1])"
      ],
      "metadata": {
        "colab": {
          "base_uri": "https://localhost:8080/"
        },
        "id": "cgU8lHM-xh1r",
        "outputId": "fadb1f07-0aea-470f-cfaa-30d4edf167b0"
      },
      "execution_count": 6,
      "outputs": [
        {
          "output_type": "stream",
          "name": "stdout",
          "text": [
            "    Unit A  Unit B\n",
            "0   6.8090  6.7703\n",
            "1   6.4376  7.5093\n",
            "2   6.9157  6.7300\n",
            "3   7.3012  6.7878\n",
            "4   7.4488  7.1522\n",
            "5   7.3871  6.8110\n",
            "6   6.8755  7.2212\n",
            "7   7.0621  6.6606\n",
            "8   6.6840  7.2402\n",
            "9   6.8236  7.0503\n",
            "10  7.3930  6.8810\n",
            "11  7.5169  7.4059\n",
            "12  6.9246  6.7652\n",
            "13  6.9256  6.0380\n",
            "14  6.5797  7.1581\n",
            "15  6.8394  7.0240\n",
            "16  6.5970  6.6672\n",
            "17  7.2705  7.4314\n",
            "18  7.2828  7.3070\n",
            "19  7.3495  6.7478\n",
            "20  6.9438  6.8889\n",
            "21  7.1560  7.4220\n",
            "22  6.5341  6.5217\n",
            "23  7.2854  7.1688\n",
            "24  6.9952  6.7594\n",
            "25  6.8568  6.9399\n",
            "26  7.2163  7.0133\n",
            "27  6.6801  6.9182\n",
            "28  6.9431  6.3346\n",
            "29  7.0852  7.5459\n",
            "30  6.7794  7.0992\n",
            "31  7.2783  7.1180\n",
            "32  7.1561  6.6965\n",
            "33  7.3943  6.5780\n",
            "34  6.9405  7.3875\n"
          ]
        },
        {
          "output_type": "execute_result",
          "data": {
            "text/plain": [
              "F_onewayResult(statistic=0.5225394038913932, pvalue=0.47223947245995734)"
            ]
          },
          "metadata": {},
          "execution_count": 6
        }
      ]
    }
  ]
}